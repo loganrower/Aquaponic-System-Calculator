{
 "cells": [
  {
   "cell_type": "markdown",
   "metadata": {},
   "source": [
    "Aquaponic System Calculator\n",
    "\n",
    "* Assuming that there is not additional amdendment of nitrifying bacteria added into the tank\n",
    "\n",
    "\n",
    "ASsumptions of feed\n",
    "\n",
    "This script was created by Logan Rower referencing knowledge from ZHAW"
   ]
  },
  {
   "cell_type": "markdown",
   "metadata": {},
   "source": [
    "## Part 1: Fish Feed Calculations:\n",
    "\n",
    "Assumptions:\n",
    "* \n",
    "* nutritionists assume that approximately 16% of all protein is nitrogen (ZHAW)\n",
    "* AquaMax Dense 4000 \n",
    "    * protein 36%, this is between typical range form 25-50%\n",
    "* assume 4.25 g of feed added per day for 5 Tilapia since this is based on known values from Lakeway Tilapia for AquaMax since roughly 85 g added for 100 fish on first day...\n",
    "\n",
    "* Total NitrogenS\n",
    ".16 *m (% protein) = % of nitrogen\n",
    "\n",
    "*"
   ]
  },
  {
   "cell_type": "markdown",
   "metadata": {},
   "source": [
    "#### Step 1: First need total amount of nitrigen placed into tank via feed\n",
    "\n",
    ".16 *m (% protein) = % of nitrogen\n",
    "\n",
    "\n",
    "% of nitrogen * (g of feed added per day) = Xg of N (in one day)"
   ]
  },
  {
   "cell_type": "code",
   "execution_count": 3,
   "metadata": {},
   "outputs": [
    {
     "name": "stdout",
     "output_type": "stream",
     "text": [
      "Nitrogen added per day  0.245 g/day N\n"
     ]
    }
   ],
   "source": [
    "## Total Amount of Nitrogen based on known values\n",
    "\n",
    "protein = .36\n",
    "N_const = .16\n",
    "\n",
    "feed_per_d = 4.25 #g\n",
    "## first calculated the% Nitrogen\n",
    "perc_N = protein * N_const\n",
    "\n",
    "## Then determined amount of g of N per day added with the feed\n",
    "\n",
    "N_per_day = perc_N * feed_per_d\n",
    "print(f\"Nitrogen added per day {N_per_day: .3f} g/day N\")"
   ]
  },
  {
   "cell_type": "markdown",
   "metadata": {},
   "source": [
    "#### Step 2: Need to estimate amount of nitrogen absorbed by fish\n",
    "\n",
    "* First find Feed Conversion Rate (FCR)\n",
    "    * Find inverse of this to find feed efficiency and the higher this is the more economical it is.. cause then this indicate fish gaining more weight...\n",
    "* \n",
    "\n",
    "\n",
    "Equation:\n",
    "\n",
    "Nitrogen Abs by fish = (amount of fish feed per day)* percentage dry weight of fish body weight * feed efficiency * percentage nitrogen in fish muslce\n",
    "\n",
    "FCR = feed provided / weight gained  # assumed to be 1.5 but need to find literature values...\n",
    "\n",
    "Feed Efficiency =  1/ FCR # Higher is better\n",
    "\n",
    "Assumptions:\n",
    "* The dry weight of tilapia is about 27% of its body weight or, put another way, 73% of tilapia muscle is water\n",
    "* Total nitrogen with respect to body weight is 8.8% in tilapia..\n",
    "\n"
   ]
  },
  {
   "cell_type": "code",
   "execution_count": 4,
   "metadata": {},
   "outputs": [
    {
     "name": "stdout",
     "output_type": "stream",
     "text": [
      "Nitrogen Absorbed By Fish Per Day  0.050 g/day N\n"
     ]
    }
   ],
   "source": [
    "dry_w_tilapia = .27 \n",
    "tot_N_per_w_tilapia = .088\n",
    "feed_per_d = 4.25 #g\n",
    "\n",
    "# First calculated FCR\n",
    "FCR = 2 ## Assumed so not very efficient...\n",
    "# Next, calculated Feed Efficiency.. want muslce build up in fish to be high per amount of feed so \n",
    "### if high then good\n",
    "F_eff = 1/FCR\n",
    "\n",
    "N_abs_fish = feed_per_d * dry_w_tilapia * F_eff * tot_N_per_w_tilapia\n",
    "\n",
    "print(f\"Nitrogen Absorbed By Fish Per Day {N_abs_fish: .3f} g/day N\")"
   ]
  },
  {
   "cell_type": "markdown",
   "metadata": {},
   "source": [
    "#### Step 3: Determined Nitrogen Loss As Solids\n"
   ]
  },
  {
   "cell_type": "markdown",
   "metadata": {},
   "source": [
    "### Step 2: Deterermine Water Flow Rate for System...\n",
    "\n",
    "This is done based on Ammonium Concentration, Oxygen Supply and Solids Removal Capcacity\n"
   ]
  }
 ],
 "metadata": {
  "interpreter": {
   "hash": "17ccc0547aa2401a84ad5b063f8433ae202d00ae56ee9097dfa7c2eb026d0eee"
  },
  "kernelspec": {
   "display_name": "Python 3.9.7 ('Warren_Lab')",
   "language": "python",
   "name": "python3"
  },
  "language_info": {
   "codemirror_mode": {
    "name": "ipython",
    "version": 3
   },
   "file_extension": ".py",
   "mimetype": "text/x-python",
   "name": "python",
   "nbconvert_exporter": "python",
   "pygments_lexer": "ipython3",
   "version": "3.9.7"
  },
  "orig_nbformat": 4
 },
 "nbformat": 4,
 "nbformat_minor": 2
}
